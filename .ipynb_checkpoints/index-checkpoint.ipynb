{
 "cells": [
  {
   "cell_type": "markdown",
   "metadata": {},
   "source": [
    "# Final Project Submission\n",
    "\n",
    "Please fill out: \n",
    "* Student name: Denis Kibor Kipkemoi.\n",
    "* Student pace: full time.\n",
    "* Scheduled project review date/time: 3/28/2025.\n",
    "* Instructor name: Nikita Njoroge.\n",
    "* Blog post URL: "
   ]
  },
  {
   "cell_type": "markdown",
   "metadata": {},
   "source": [
    "<h1>Airline Decision - Data Science Project.</h1>\n",
    "<p>My company wants to diversisfy it's portfolio by venturing into the airlines industry, particularly they are interested in purchasing and operating airplanes for both commercial and private enterprises. I have been tasked with the reponsibity to asses the risk associated with the aircrafts and turn my findings into actionable insights that the head of the new aviation division can use to help decide which aircraft to purchase. <br> In this project I am going to do my analysis using data from the National Transportation Safety Board that includes aviation accident data from 1962 to 2023 about civil aviation accidents and selected incidents in the United States and international waters for my analysis.\n",
    "\n",
    "</p>"
   ]
  },
  {
   "cell_type": "markdown",
   "metadata": {},
   "source": [
    "<h2>Business Questions</h2>\n",
    "\n",
    "<h5>1. What's the general trend of aircraft accidents over the years?</h5>\n",
    "\n",
    "<h5>2. Are there specific aircraft Makes that have high accident counts associated with them?</h5>\n",
    "\n",
    "<h5>3. Which aircraft makes have the highest number of survivable accidents?</h5>"
   ]
  },
  {
   "cell_type": "markdown",
   "metadata": {},
   "source": [
    "<h2>Assumptions</h2>\n",
    "\n",
    "<p><b>1. Aircraft Popularity vs. Accident Frequency</b>\n",
    "\n",
    "Aircraft with higher accident counts may be more widely used, rather than inherently riskier.</p>\n",
    "\n",
    "<p><b>2. Severity of Accidents</b>\n",
    "\n",
    "A high number of accidents does not necessarily mean high risk—some accidents may be minor with no fatalities.</p>\n",
    "\n",
    "<p><b>3. Low Accident count vs Safety</b> \n",
    "\n",
    "Aircrafts that have a low accident(which is the majority in our data), aren't necessarily safe. Instead we have assumed that they are either not popular or not widely used.</p>\n"
   ]
  },
  {
   "cell_type": "markdown",
   "metadata": {},
   "source": [
    "<h3>Step 1: Importing Necessary Python Libraries</h3>"
   ]
  },
  {
   "cell_type": "code",
   "execution_count": 1,
   "metadata": {},
   "outputs": [],
   "source": [
    "# First I am going to import all the necessary python libraries that I will need for my analysis.\n",
    "\n",
    "import pandas as pd \n",
    "import numpy as np \n",
    "from matplotlib import pyplot as plt\n",
    "import seaborn as sns\n",
    "\n",
    "%matplotlib inline"
   ]
  },
  {
   "cell_type": "markdown",
   "metadata": {},
   "source": [
    "<h3>Step 2: Load and Preview Data</h3>\n",
    "<p>In this step we will load the AviationData.csv data which will be our primary dataset for analysis. \n",
    "We will also hover over our data and get familiar with what it contains.</p>"
   ]
  },
  {
   "cell_type": "code",
   "execution_count": 2,
   "metadata": {},
   "outputs": [
    {
     "ename": "FileNotFoundError",
     "evalue": "[Errno 2] No such file or directory: 'AviationData.csv'",
     "output_type": "error",
     "traceback": [
      "\u001b[1;31m---------------------------------------------------------------------------\u001b[0m",
      "\u001b[1;31mFileNotFoundError\u001b[0m                         Traceback (most recent call last)",
      "\u001b[1;32m<ipython-input-2-06a0cdef2732>\u001b[0m in \u001b[0;36m<module>\u001b[1;34m\u001b[0m\n\u001b[0;32m      1\u001b[0m \u001b[1;31m# First using pandas we import our data and convert it from csv into a pandas datframe so that we can manipulate the data.\u001b[0m\u001b[1;33m\u001b[0m\u001b[1;33m\u001b[0m\u001b[1;33m\u001b[0m\u001b[0m\n\u001b[1;32m----> 2\u001b[1;33m \u001b[0mdf\u001b[0m \u001b[1;33m=\u001b[0m \u001b[0mpd\u001b[0m\u001b[1;33m.\u001b[0m\u001b[0mread_csv\u001b[0m\u001b[1;33m(\u001b[0m\u001b[1;34m'AviationData.csv'\u001b[0m\u001b[1;33m,\u001b[0m \u001b[0mencoding\u001b[0m\u001b[1;33m=\u001b[0m\u001b[1;34m\"Windows-1252\"\u001b[0m\u001b[1;33m)\u001b[0m\u001b[1;33m\u001b[0m\u001b[1;33m\u001b[0m\u001b[0m\n\u001b[0m\u001b[0;32m      3\u001b[0m \u001b[0mdf\u001b[0m\u001b[1;33m.\u001b[0m\u001b[0mtail\u001b[0m\u001b[1;33m(\u001b[0m\u001b[1;33m)\u001b[0m\u001b[1;33m\u001b[0m\u001b[1;33m\u001b[0m\u001b[0m\n",
      "\u001b[1;32mc:\\Users\\User\\anaconda3\\envs\\learn-env\\lib\\site-packages\\pandas\\io\\parsers.py\u001b[0m in \u001b[0;36mread_csv\u001b[1;34m(filepath_or_buffer, sep, delimiter, header, names, index_col, usecols, squeeze, prefix, mangle_dupe_cols, dtype, engine, converters, true_values, false_values, skipinitialspace, skiprows, skipfooter, nrows, na_values, keep_default_na, na_filter, verbose, skip_blank_lines, parse_dates, infer_datetime_format, keep_date_col, date_parser, dayfirst, cache_dates, iterator, chunksize, compression, thousands, decimal, lineterminator, quotechar, quoting, doublequote, escapechar, comment, encoding, dialect, error_bad_lines, warn_bad_lines, delim_whitespace, low_memory, memory_map, float_precision)\u001b[0m\n\u001b[0;32m    684\u001b[0m     )\n\u001b[0;32m    685\u001b[0m \u001b[1;33m\u001b[0m\u001b[0m\n\u001b[1;32m--> 686\u001b[1;33m     \u001b[1;32mreturn\u001b[0m \u001b[0m_read\u001b[0m\u001b[1;33m(\u001b[0m\u001b[0mfilepath_or_buffer\u001b[0m\u001b[1;33m,\u001b[0m \u001b[0mkwds\u001b[0m\u001b[1;33m)\u001b[0m\u001b[1;33m\u001b[0m\u001b[1;33m\u001b[0m\u001b[0m\n\u001b[0m\u001b[0;32m    687\u001b[0m \u001b[1;33m\u001b[0m\u001b[0m\n\u001b[0;32m    688\u001b[0m \u001b[1;33m\u001b[0m\u001b[0m\n",
      "\u001b[1;32mc:\\Users\\User\\anaconda3\\envs\\learn-env\\lib\\site-packages\\pandas\\io\\parsers.py\u001b[0m in \u001b[0;36m_read\u001b[1;34m(filepath_or_buffer, kwds)\u001b[0m\n\u001b[0;32m    450\u001b[0m \u001b[1;33m\u001b[0m\u001b[0m\n\u001b[0;32m    451\u001b[0m     \u001b[1;31m# Create the parser.\u001b[0m\u001b[1;33m\u001b[0m\u001b[1;33m\u001b[0m\u001b[1;33m\u001b[0m\u001b[0m\n\u001b[1;32m--> 452\u001b[1;33m     \u001b[0mparser\u001b[0m \u001b[1;33m=\u001b[0m \u001b[0mTextFileReader\u001b[0m\u001b[1;33m(\u001b[0m\u001b[0mfp_or_buf\u001b[0m\u001b[1;33m,\u001b[0m \u001b[1;33m**\u001b[0m\u001b[0mkwds\u001b[0m\u001b[1;33m)\u001b[0m\u001b[1;33m\u001b[0m\u001b[1;33m\u001b[0m\u001b[0m\n\u001b[0m\u001b[0;32m    453\u001b[0m \u001b[1;33m\u001b[0m\u001b[0m\n\u001b[0;32m    454\u001b[0m     \u001b[1;32mif\u001b[0m \u001b[0mchunksize\u001b[0m \u001b[1;32mor\u001b[0m \u001b[0miterator\u001b[0m\u001b[1;33m:\u001b[0m\u001b[1;33m\u001b[0m\u001b[1;33m\u001b[0m\u001b[0m\n",
      "\u001b[1;32mc:\\Users\\User\\anaconda3\\envs\\learn-env\\lib\\site-packages\\pandas\\io\\parsers.py\u001b[0m in \u001b[0;36m__init__\u001b[1;34m(self, f, engine, **kwds)\u001b[0m\n\u001b[0;32m    944\u001b[0m             \u001b[0mself\u001b[0m\u001b[1;33m.\u001b[0m\u001b[0moptions\u001b[0m\u001b[1;33m[\u001b[0m\u001b[1;34m\"has_index_names\"\u001b[0m\u001b[1;33m]\u001b[0m \u001b[1;33m=\u001b[0m \u001b[0mkwds\u001b[0m\u001b[1;33m[\u001b[0m\u001b[1;34m\"has_index_names\"\u001b[0m\u001b[1;33m]\u001b[0m\u001b[1;33m\u001b[0m\u001b[1;33m\u001b[0m\u001b[0m\n\u001b[0;32m    945\u001b[0m \u001b[1;33m\u001b[0m\u001b[0m\n\u001b[1;32m--> 946\u001b[1;33m         \u001b[0mself\u001b[0m\u001b[1;33m.\u001b[0m\u001b[0m_make_engine\u001b[0m\u001b[1;33m(\u001b[0m\u001b[0mself\u001b[0m\u001b[1;33m.\u001b[0m\u001b[0mengine\u001b[0m\u001b[1;33m)\u001b[0m\u001b[1;33m\u001b[0m\u001b[1;33m\u001b[0m\u001b[0m\n\u001b[0m\u001b[0;32m    947\u001b[0m \u001b[1;33m\u001b[0m\u001b[0m\n\u001b[0;32m    948\u001b[0m     \u001b[1;32mdef\u001b[0m \u001b[0mclose\u001b[0m\u001b[1;33m(\u001b[0m\u001b[0mself\u001b[0m\u001b[1;33m)\u001b[0m\u001b[1;33m:\u001b[0m\u001b[1;33m\u001b[0m\u001b[1;33m\u001b[0m\u001b[0m\n",
      "\u001b[1;32mc:\\Users\\User\\anaconda3\\envs\\learn-env\\lib\\site-packages\\pandas\\io\\parsers.py\u001b[0m in \u001b[0;36m_make_engine\u001b[1;34m(self, engine)\u001b[0m\n\u001b[0;32m   1176\u001b[0m     \u001b[1;32mdef\u001b[0m \u001b[0m_make_engine\u001b[0m\u001b[1;33m(\u001b[0m\u001b[0mself\u001b[0m\u001b[1;33m,\u001b[0m \u001b[0mengine\u001b[0m\u001b[1;33m=\u001b[0m\u001b[1;34m\"c\"\u001b[0m\u001b[1;33m)\u001b[0m\u001b[1;33m:\u001b[0m\u001b[1;33m\u001b[0m\u001b[1;33m\u001b[0m\u001b[0m\n\u001b[0;32m   1177\u001b[0m         \u001b[1;32mif\u001b[0m \u001b[0mengine\u001b[0m \u001b[1;33m==\u001b[0m \u001b[1;34m\"c\"\u001b[0m\u001b[1;33m:\u001b[0m\u001b[1;33m\u001b[0m\u001b[1;33m\u001b[0m\u001b[0m\n\u001b[1;32m-> 1178\u001b[1;33m             \u001b[0mself\u001b[0m\u001b[1;33m.\u001b[0m\u001b[0m_engine\u001b[0m \u001b[1;33m=\u001b[0m \u001b[0mCParserWrapper\u001b[0m\u001b[1;33m(\u001b[0m\u001b[0mself\u001b[0m\u001b[1;33m.\u001b[0m\u001b[0mf\u001b[0m\u001b[1;33m,\u001b[0m \u001b[1;33m**\u001b[0m\u001b[0mself\u001b[0m\u001b[1;33m.\u001b[0m\u001b[0moptions\u001b[0m\u001b[1;33m)\u001b[0m\u001b[1;33m\u001b[0m\u001b[1;33m\u001b[0m\u001b[0m\n\u001b[0m\u001b[0;32m   1179\u001b[0m         \u001b[1;32melse\u001b[0m\u001b[1;33m:\u001b[0m\u001b[1;33m\u001b[0m\u001b[1;33m\u001b[0m\u001b[0m\n\u001b[0;32m   1180\u001b[0m             \u001b[1;32mif\u001b[0m \u001b[0mengine\u001b[0m \u001b[1;33m==\u001b[0m \u001b[1;34m\"python\"\u001b[0m\u001b[1;33m:\u001b[0m\u001b[1;33m\u001b[0m\u001b[1;33m\u001b[0m\u001b[0m\n",
      "\u001b[1;32mc:\\Users\\User\\anaconda3\\envs\\learn-env\\lib\\site-packages\\pandas\\io\\parsers.py\u001b[0m in \u001b[0;36m__init__\u001b[1;34m(self, src, **kwds)\u001b[0m\n\u001b[0;32m   1989\u001b[0m         \u001b[1;32mif\u001b[0m \u001b[0mkwds\u001b[0m\u001b[1;33m.\u001b[0m\u001b[0mget\u001b[0m\u001b[1;33m(\u001b[0m\u001b[1;34m\"compression\"\u001b[0m\u001b[1;33m)\u001b[0m \u001b[1;32mis\u001b[0m \u001b[1;32mNone\u001b[0m \u001b[1;32mand\u001b[0m \u001b[0mencoding\u001b[0m\u001b[1;33m:\u001b[0m\u001b[1;33m\u001b[0m\u001b[1;33m\u001b[0m\u001b[0m\n\u001b[0;32m   1990\u001b[0m             \u001b[1;32mif\u001b[0m \u001b[0misinstance\u001b[0m\u001b[1;33m(\u001b[0m\u001b[0msrc\u001b[0m\u001b[1;33m,\u001b[0m \u001b[0mstr\u001b[0m\u001b[1;33m)\u001b[0m\u001b[1;33m:\u001b[0m\u001b[1;33m\u001b[0m\u001b[1;33m\u001b[0m\u001b[0m\n\u001b[1;32m-> 1991\u001b[1;33m                 \u001b[0msrc\u001b[0m \u001b[1;33m=\u001b[0m \u001b[0mopen\u001b[0m\u001b[1;33m(\u001b[0m\u001b[0msrc\u001b[0m\u001b[1;33m,\u001b[0m \u001b[1;34m\"rb\"\u001b[0m\u001b[1;33m)\u001b[0m\u001b[1;33m\u001b[0m\u001b[1;33m\u001b[0m\u001b[0m\n\u001b[0m\u001b[0;32m   1992\u001b[0m                 \u001b[0mself\u001b[0m\u001b[1;33m.\u001b[0m\u001b[0mhandles\u001b[0m\u001b[1;33m.\u001b[0m\u001b[0mappend\u001b[0m\u001b[1;33m(\u001b[0m\u001b[0msrc\u001b[0m\u001b[1;33m)\u001b[0m\u001b[1;33m\u001b[0m\u001b[1;33m\u001b[0m\u001b[0m\n\u001b[0;32m   1993\u001b[0m \u001b[1;33m\u001b[0m\u001b[0m\n",
      "\u001b[1;31mFileNotFoundError\u001b[0m: [Errno 2] No such file or directory: 'AviationData.csv'"
     ]
    }
   ],
   "source": [
    "# First using pandas we import our data and convert it from csv into a pandas datframe so that we can manipulate the data.\n",
    "df = pd.read_csv('AviationData.csv', encoding=\"Windows-1252\")\n",
    "df.tail()"
   ]
  },
  {
   "cell_type": "code",
   "execution_count": null,
   "metadata": {},
   "outputs": [
    {
     "data": {
      "text/plain": [
       "(88889, 31)"
      ]
     },
     "execution_count": 4,
     "metadata": {},
     "output_type": "execute_result"
    }
   ],
   "source": [
    "# Checking the shape of our data. \n",
    "df.shape"
   ]
  },
  {
   "cell_type": "code",
   "execution_count": null,
   "metadata": {},
   "outputs": [
    {
     "name": "stdout",
     "output_type": "stream",
     "text": [
      "<class 'pandas.core.frame.DataFrame'>\n",
      "RangeIndex: 88889 entries, 0 to 88888\n",
      "Data columns (total 31 columns):\n",
      " #   Column                  Non-Null Count  Dtype  \n",
      "---  ------                  --------------  -----  \n",
      " 0   Event.Id                88889 non-null  object \n",
      " 1   Investigation.Type      88889 non-null  object \n",
      " 2   Accident.Number         88889 non-null  object \n",
      " 3   Event.Date              88889 non-null  object \n",
      " 4   Location                88837 non-null  object \n",
      " 5   Country                 88663 non-null  object \n",
      " 6   Latitude                34382 non-null  object \n",
      " 7   Longitude               34373 non-null  object \n",
      " 8   Airport.Code            50249 non-null  object \n",
      " 9   Airport.Name            52790 non-null  object \n",
      " 10  Injury.Severity         87889 non-null  object \n",
      " 11  Aircraft.damage         85695 non-null  object \n",
      " 12  Aircraft.Category       32287 non-null  object \n",
      " 13  Registration.Number     87572 non-null  object \n",
      " 14  Make                    88826 non-null  object \n",
      " 15  Model                   88797 non-null  object \n",
      " 16  Amateur.Built           88787 non-null  object \n",
      " 17  Number.of.Engines       82805 non-null  float64\n",
      " 18  Engine.Type             81812 non-null  object \n",
      " 19  FAR.Description         32023 non-null  object \n",
      " 20  Schedule                12582 non-null  object \n",
      " 21  Purpose.of.flight       82697 non-null  object \n",
      " 22  Air.carrier             16648 non-null  object \n",
      " 23  Total.Fatal.Injuries    77488 non-null  float64\n",
      " 24  Total.Serious.Injuries  76379 non-null  float64\n",
      " 25  Total.Minor.Injuries    76956 non-null  float64\n",
      " 26  Total.Uninjured         82977 non-null  float64\n",
      " 27  Weather.Condition       84397 non-null  object \n",
      " 28  Broad.phase.of.flight   61724 non-null  object \n",
      " 29  Report.Status           82508 non-null  object \n",
      " 30  Publication.Date        75118 non-null  object \n",
      "dtypes: float64(5), object(26)\n",
      "memory usage: 21.0+ MB\n"
     ]
    }
   ],
   "source": [
    "# Checking the shape, data types and non-null values in column in our dataset \n",
    "\n",
    "df.info()"
   ]
  },
  {
   "cell_type": "markdown",
   "metadata": {},
   "source": [
    "<h4>Conclusions</h4>\n",
    "<p>Our data is made up 88889 rows and 31 columns. The rows run from index 0 to 88888. The columns contain two types of data, namely: objects and float64. There are columns that contain non-null values which we will deal with in the next steps </p>"
   ]
  },
  {
   "cell_type": "markdown",
   "metadata": {},
   "source": [
    "<h3>Step 3: Data Cleaning and Processing. </h3>\n",
    "<p><b>3.1 Filtering:</b> We've noticed that there are columns in our dataset that we won't need for our analysis so we should filter our data to contain only the columns we're interested in before we start cleaning. To do this we'll create a new dataframe and call it clean_df. After this we'll use clean_df for the rest of the project. <br> <b>My Filter will be a follows: </b> <br>\n",
    "Aircraft Identification → 'Make', 'Model', 'Aircraft.Category',.\n",
    "\n",
    "Risk Assessment -  'Investigation.Type','Injury.Severity', 'Aircraft.damage', 'Total.Fatal.Injuries', 'Total.Serious.Injuries', 'Total.Minor.\n",
    "\n",
    "Injuries', 'Total.Uninjured'.\n",
    "Contextual Factors - 'Weather.Condition', 'Broad.phase.of.flight', 'Purpose.of.flight' .\n",
    "\n",
    "Incident Details - 'Event.Date', 'Location', 'Country', 'Event.Id' .\n",
    "\n",
    "Engine & Performance(to analyze risk per engine type) - 'Number.of.Engines', 'Engine.Type' </p>"
   ]
  },
  {
   "cell_type": "code",
   "execution_count": null,
   "metadata": {},
   "outputs": [],
   "source": [
    "# Making a copy od our original dataframe.\n",
    "clean_df = df.copy() \n",
    "\n",
    "# A list of the columns that will be relevant for our analysis.\n",
    "relevant_col = [ 'Event.Id', \n",
    "    'Event.Date',\n",
    "    'Investigation.Type',\n",
    "    'Location',\n",
    "    'Country',\n",
    "    'Injury.Severity',\n",
    "    'Aircraft.damage',\n",
    "    'Aircraft.Category',\n",
    "    'Make',\n",
    "    'Model',\n",
    "    'Number.of.Engines',\n",
    "    'Engine.Type',\n",
    "    'Purpose.of.flight',\n",
    "    'Total.Fatal.Injuries',\n",
    "    'Total.Serious.Injuries',\n",
    "    'Total.Minor.Injuries',\n",
    "    'Total.Uninjured',\n",
    "    'Weather.Condition',\n",
    "    'Broad.phase.of.flight']\n",
    "\n",
    "clean_df = clean_df[relevant_col]"
   ]
  },
  {
   "cell_type": "code",
   "execution_count": null,
   "metadata": {},
   "outputs": [
    {
     "name": "stdout",
     "output_type": "stream",
     "text": [
      "<class 'pandas.core.frame.DataFrame'>\n",
      "RangeIndex: 88889 entries, 0 to 88888\n",
      "Data columns (total 19 columns):\n",
      " #   Column                  Non-Null Count  Dtype  \n",
      "---  ------                  --------------  -----  \n",
      " 0   Event.Id                88889 non-null  object \n",
      " 1   Event.Date              88889 non-null  object \n",
      " 2   Investigation.Type      88889 non-null  object \n",
      " 3   Location                88837 non-null  object \n",
      " 4   Country                 88663 non-null  object \n",
      " 5   Injury.Severity         87889 non-null  object \n",
      " 6   Aircraft.damage         85695 non-null  object \n",
      " 7   Aircraft.Category       32287 non-null  object \n",
      " 8   Make                    88826 non-null  object \n",
      " 9   Model                   88797 non-null  object \n",
      " 10  Number.of.Engines       82805 non-null  float64\n",
      " 11  Engine.Type             81812 non-null  object \n",
      " 12  Purpose.of.flight       82697 non-null  object \n",
      " 13  Total.Fatal.Injuries    77488 non-null  float64\n",
      " 14  Total.Serious.Injuries  76379 non-null  float64\n",
      " 15  Total.Minor.Injuries    76956 non-null  float64\n",
      " 16  Total.Uninjured         82977 non-null  float64\n",
      " 17  Weather.Condition       84397 non-null  object \n",
      " 18  Broad.phase.of.flight   61724 non-null  object \n",
      "dtypes: float64(5), object(14)\n",
      "memory usage: 12.9+ MB\n"
     ]
    }
   ],
   "source": [
    "clean_df.info() # check the general information of our new dataframe"
   ]
  },
  {
   "cell_type": "code",
   "execution_count": null,
   "metadata": {},
   "outputs": [
    {
     "data": {
      "text/html": [
       "<div>\n",
       "<style scoped>\n",
       "    .dataframe tbody tr th:only-of-type {\n",
       "        vertical-align: middle;\n",
       "    }\n",
       "\n",
       "    .dataframe tbody tr th {\n",
       "        vertical-align: top;\n",
       "    }\n",
       "\n",
       "    .dataframe thead th {\n",
       "        text-align: right;\n",
       "    }\n",
       "</style>\n",
       "<table border=\"1\" class=\"dataframe\">\n",
       "  <thead>\n",
       "    <tr style=\"text-align: right;\">\n",
       "      <th></th>\n",
       "      <th>Number.of.Engines</th>\n",
       "      <th>Total.Fatal.Injuries</th>\n",
       "      <th>Total.Serious.Injuries</th>\n",
       "      <th>Total.Minor.Injuries</th>\n",
       "      <th>Total.Uninjured</th>\n",
       "    </tr>\n",
       "  </thead>\n",
       "  <tbody>\n",
       "    <tr>\n",
       "      <th>count</th>\n",
       "      <td>82805.000000</td>\n",
       "      <td>77488.000000</td>\n",
       "      <td>76379.000000</td>\n",
       "      <td>76956.000000</td>\n",
       "      <td>82977.000000</td>\n",
       "    </tr>\n",
       "    <tr>\n",
       "      <th>mean</th>\n",
       "      <td>1.146585</td>\n",
       "      <td>0.647855</td>\n",
       "      <td>0.279881</td>\n",
       "      <td>0.357061</td>\n",
       "      <td>5.325440</td>\n",
       "    </tr>\n",
       "    <tr>\n",
       "      <th>std</th>\n",
       "      <td>0.446510</td>\n",
       "      <td>5.485960</td>\n",
       "      <td>1.544084</td>\n",
       "      <td>2.235625</td>\n",
       "      <td>27.913634</td>\n",
       "    </tr>\n",
       "    <tr>\n",
       "      <th>min</th>\n",
       "      <td>0.000000</td>\n",
       "      <td>0.000000</td>\n",
       "      <td>0.000000</td>\n",
       "      <td>0.000000</td>\n",
       "      <td>0.000000</td>\n",
       "    </tr>\n",
       "    <tr>\n",
       "      <th>25%</th>\n",
       "      <td>1.000000</td>\n",
       "      <td>0.000000</td>\n",
       "      <td>0.000000</td>\n",
       "      <td>0.000000</td>\n",
       "      <td>0.000000</td>\n",
       "    </tr>\n",
       "    <tr>\n",
       "      <th>50%</th>\n",
       "      <td>1.000000</td>\n",
       "      <td>0.000000</td>\n",
       "      <td>0.000000</td>\n",
       "      <td>0.000000</td>\n",
       "      <td>1.000000</td>\n",
       "    </tr>\n",
       "    <tr>\n",
       "      <th>75%</th>\n",
       "      <td>1.000000</td>\n",
       "      <td>0.000000</td>\n",
       "      <td>0.000000</td>\n",
       "      <td>0.000000</td>\n",
       "      <td>2.000000</td>\n",
       "    </tr>\n",
       "    <tr>\n",
       "      <th>max</th>\n",
       "      <td>8.000000</td>\n",
       "      <td>349.000000</td>\n",
       "      <td>161.000000</td>\n",
       "      <td>380.000000</td>\n",
       "      <td>699.000000</td>\n",
       "    </tr>\n",
       "  </tbody>\n",
       "</table>\n",
       "</div>"
      ],
      "text/plain": [
       "       Number.of.Engines  Total.Fatal.Injuries  Total.Serious.Injuries  \\\n",
       "count       82805.000000          77488.000000            76379.000000   \n",
       "mean            1.146585              0.647855                0.279881   \n",
       "std             0.446510              5.485960                1.544084   \n",
       "min             0.000000              0.000000                0.000000   \n",
       "25%             1.000000              0.000000                0.000000   \n",
       "50%             1.000000              0.000000                0.000000   \n",
       "75%             1.000000              0.000000                0.000000   \n",
       "max             8.000000            349.000000              161.000000   \n",
       "\n",
       "       Total.Minor.Injuries  Total.Uninjured  \n",
       "count          76956.000000     82977.000000  \n",
       "mean               0.357061         5.325440  \n",
       "std                2.235625        27.913634  \n",
       "min                0.000000         0.000000  \n",
       "25%                0.000000         0.000000  \n",
       "50%                0.000000         1.000000  \n",
       "75%                0.000000         2.000000  \n",
       "max              380.000000       699.000000  "
      ]
     },
     "execution_count": 8,
     "metadata": {},
     "output_type": "execute_result"
    }
   ],
   "source": [
    "clean_df.describe() # Summary Statistics."
   ]
  },
  {
   "cell_type": "markdown",
   "metadata": {},
   "source": [
    "<p><b>3.2 Cleaning our Data:</b> Now that we've filtered our data to the necessary columns, we want to clean our data. We will deal with all the duplicates and the missing values before we can start generating insights from our data. \n",
    "</p>"
   ]
  },
  {
   "cell_type": "code",
   "execution_count": null,
   "metadata": {},
   "outputs": [
    {
     "data": {
      "text/plain": [
       "28"
      ]
     },
     "execution_count": 9,
     "metadata": {},
     "output_type": "execute_result"
    }
   ],
   "source": [
    "# Checking for duplicated values in our dataset\n",
    "clean_df.duplicated().sum()"
   ]
  },
  {
   "cell_type": "markdown",
   "metadata": {},
   "source": [
    "####\n",
    "We can see that there are 28 duplicates in our dataset, represented by the boolean True. We are going to drop all the duplicates as our solution\n",
    "####"
   ]
  },
  {
   "cell_type": "code",
   "execution_count": null,
   "metadata": {},
   "outputs": [
    {
     "data": {
      "text/plain": [
       "0"
      ]
     },
     "execution_count": 10,
     "metadata": {},
     "output_type": "execute_result"
    }
   ],
   "source": [
    "clean_df.drop_duplicates(inplace=True) # Dropping the duplicates \n",
    "\n",
    "clean_df.duplicated().sum() # asserting that our dataframe has no duplicates "
   ]
  },
  {
   "cell_type": "markdown",
   "metadata": {},
   "source": [
    "<h4><b>Dealing with Missing Values</b></h4>\n",
    "<p>Now that we've gotten rid of the missing values we move on to missing values. In this step we will indentify the columns that have missing values and deal with them accordingly. We will also explain reasons why we chose to handle them how we will handle them.</p>"
   ]
  },
  {
   "cell_type": "code",
   "execution_count": null,
   "metadata": {},
   "outputs": [
    {
     "data": {
      "text/plain": [
       "Event.Id                      0\n",
       "Event.Date                    0\n",
       "Investigation.Type            0\n",
       "Location                     52\n",
       "Country                     226\n",
       "Injury.Severity             999\n",
       "Aircraft.damage            3191\n",
       "Aircraft.Category         56580\n",
       "Make                         63\n",
       "Model                        92\n",
       "Number.of.Engines          6081\n",
       "Engine.Type                7075\n",
       "Purpose.of.flight          6190\n",
       "Total.Fatal.Injuries      11398\n",
       "Total.Serious.Injuries    12503\n",
       "Total.Minor.Injuries      11926\n",
       "Total.Uninjured            5908\n",
       "Weather.Condition          4491\n",
       "Broad.phase.of.flight     27162\n",
       "dtype: int64"
      ]
     },
     "execution_count": 11,
     "metadata": {},
     "output_type": "execute_result"
    }
   ],
   "source": [
    "clean_df.isna().sum()  # Sum of missing values for each row"
   ]
  },
  {
   "cell_type": "markdown",
   "metadata": {},
   "source": [
    "We will first handle columns with a huge chunk of missing data. In our case we have Aircraft.Category and Broad.phase.of.flight, since the missing values are too many we'd rather just drop them."
   ]
  },
  {
   "cell_type": "code",
   "execution_count": null,
   "metadata": {},
   "outputs": [
    {
     "data": {
      "text/plain": [
       "(88861, 17)"
      ]
     },
     "execution_count": 12,
     "metadata": {},
     "output_type": "execute_result"
    }
   ],
   "source": [
    "# We drop the columns with too many missing values i.e Aircraft.Category and Broad.phase.of.flight\n",
    "clean_df.drop(columns = ['Aircraft.Category','Broad.phase.of.flight'], inplace=True)\n",
    "clean_df.shape"
   ]
  },
  {
   "cell_type": "markdown",
   "metadata": {},
   "source": [
    "Next we will deal with columns that have a very small number of missing values. In our dataset these are: Location, Country, injury.severity, Make, and Model columns. We shall drop the rows with missing values "
   ]
  },
  {
   "cell_type": "code",
   "execution_count": null,
   "metadata": {},
   "outputs": [
    {
     "data": {
      "text/plain": [
       "(87495, 17)"
      ]
     },
     "execution_count": 13,
     "metadata": {},
     "output_type": "execute_result"
    }
   ],
   "source": [
    "clean_df.dropna(subset=['Location', 'Country', 'Injury.Severity', 'Make', 'Model'], inplace=True)\n",
    "clean_df.isna().sum()\n",
    "clean_df.shape"
   ]
  },
  {
   "cell_type": "markdown",
   "metadata": {},
   "source": [
    "Lastly we are going to deal with the remaining set of missing values by filling in. We have 2 cases: \n",
    "1. Categorical values like 'Aircraft.damage', 'Engine.Type', 'Purpose.of.flight', and 'Weather.Condition', it's best to replace missing values with 'missing' to avoid data loss.\n",
    "\n",
    "2. For numeric columns ('Total.Fatal.Injuries', 'Total.Serious.Injuries', 'Total.Minor.Injuries', 'Total.Uninjured', 'Number.of.ingines'), missing values can be filled the median value.\n"
   ]
  },
  {
   "cell_type": "code",
   "execution_count": null,
   "metadata": {},
   "outputs": [
    {
     "data": {
      "text/plain": [
       "Event.Id                  0\n",
       "Event.Date                0\n",
       "Investigation.Type        0\n",
       "Location                  0\n",
       "Country                   0\n",
       "Injury.Severity           0\n",
       "Aircraft.damage           0\n",
       "Make                      0\n",
       "Model                     0\n",
       "Number.of.Engines         0\n",
       "Engine.Type               0\n",
       "Purpose.of.flight         0\n",
       "Total.Fatal.Injuries      0\n",
       "Total.Serious.Injuries    0\n",
       "Total.Minor.Injuries      0\n",
       "Total.Uninjured           0\n",
       "Weather.Condition         0\n",
       "dtype: int64"
      ]
     },
     "execution_count": 14,
     "metadata": {},
     "output_type": "execute_result"
    }
   ],
   "source": [
    "# Case 1. Categorical Columns.\n",
    "categorcal_col = ['Aircraft.damage', 'Engine.Type', 'Purpose.of.flight','Weather.Condition']\n",
    "clean_df[categorcal_col] = clean_df[categorcal_col].fillna('missing')\n",
    "\n",
    "# Case 2. Numerical columns.\n",
    "injury_col = ['Total.Fatal.Injuries', 'Total.Serious.Injuries', 'Total.Minor.Injuries', 'Total.Uninjured','Number.of.Engines']\n",
    "for col in injury_col:\n",
    "    clean_df[col] = clean_df[col].fillna(clean_df[col].median())\n",
    "\n",
    "clean_df.isna().sum()"
   ]
  },
  {
   "cell_type": "markdown",
   "metadata": {},
   "source": [
    "Now our data no longer has missing values. Now let's check for extraneous values in out dataset.\n"
   ]
  },
  {
   "cell_type": "code",
   "execution_count": null,
   "metadata": {},
   "outputs": [
    {
     "name": "stdout",
     "output_type": "stream",
     "text": [
      "Event.Id \n",
      " 20001214X45071    3\n",
      "20001212X19172    3\n",
      "20001213X35266    2\n",
      "20020917X02400    2\n",
      "20001214X43122    2\n",
      "Name: Event.Id, dtype: int64 \n",
      "\n",
      "\n",
      "Event.Date \n",
      " 1984-06-30    25\n",
      "1982-05-16    25\n",
      "1986-05-17    24\n",
      "2000-07-08    24\n",
      "1984-08-25    24\n",
      "Name: Event.Date, dtype: int64 \n",
      "\n",
      "\n",
      "Investigation.Type \n",
      " Accident    84345\n",
      "Incident     3150\n",
      "Name: Investigation.Type, dtype: int64 \n",
      "\n",
      "\n",
      "Location \n",
      " ANCHORAGE, AK      434\n",
      "MIAMI, FL          200\n",
      "ALBUQUERQUE, NM    196\n",
      "HOUSTON, TX        192\n",
      "CHICAGO, IL        184\n",
      "Name: Location, dtype: int64 \n",
      "\n",
      "\n",
      "Country \n",
      " United States     82059\n",
      "Brazil              348\n",
      "Canada              332\n",
      "Mexico              308\n",
      "United Kingdom      261\n",
      "Name: Country, dtype: int64 \n",
      "\n",
      "\n",
      "Injury.Severity \n",
      " Non-Fatal    67131\n",
      "Fatal(1)      6127\n",
      "Fatal         5248\n",
      "Fatal(2)      3676\n",
      "Incident      2179\n",
      "Name: Injury.Severity, dtype: int64 \n",
      "\n",
      "\n",
      "Aircraft.damage \n",
      " Substantial    63774\n",
      "Destroyed      18421\n",
      "missing         2653\n",
      "Minor           2555\n",
      "Unknown           92\n",
      "Name: Aircraft.damage, dtype: int64 \n",
      "\n",
      "\n",
      "Make \n",
      " Cessna    22164\n",
      "Piper     11996\n",
      "CESSNA     4838\n",
      "Beech      4317\n",
      "PIPER      2813\n",
      "Name: Make, dtype: int64 \n",
      "\n",
      "\n",
      "Model \n",
      " 152          2358\n",
      "172          1739\n",
      "172N         1158\n",
      "PA-28-140     931\n",
      "150           824\n",
      "Name: Model, dtype: int64 \n",
      "\n",
      "\n",
      "Number.of.Engines \n",
      " 1.0    74611\n",
      "2.0    10779\n",
      "0.0     1220\n",
      "3.0      475\n",
      "4.0      406\n",
      "Name: Number.of.Engines, dtype: int64 \n",
      "\n",
      "\n",
      "Engine.Type \n",
      " Reciprocating    69333\n",
      "missing           6209\n",
      "Turbo Shaft       3511\n",
      "Turbo Prop        3357\n",
      "Turbo Fan         2343\n",
      "Name: Engine.Type, dtype: int64 \n",
      "\n",
      "\n",
      "Purpose.of.flight \n",
      " Personal              49331\n",
      "Instructional         10575\n",
      "Unknown                6637\n",
      "missing                5193\n",
      "Aerial Application     4708\n",
      "Name: Purpose.of.flight, dtype: int64 \n",
      "\n",
      "\n",
      "Total.Fatal.Injuries \n",
      " 0.0    69804\n",
      "1.0     8836\n",
      "2.0     5135\n",
      "3.0     1573\n",
      "4.0     1095\n",
      "Name: Total.Fatal.Injuries, dtype: int64 \n",
      "\n",
      "\n",
      "Total.Serious.Injuries \n",
      " 0.0    74474\n",
      "1.0     9080\n",
      "2.0     2805\n",
      "3.0      625\n",
      "4.0      254\n",
      "Name: Total.Serious.Injuries, dtype: int64 \n",
      "\n",
      "\n",
      "Total.Minor.Injuries \n",
      " 0.0    72074\n",
      "1.0    10275\n",
      "2.0     3559\n",
      "3.0      778\n",
      "4.0      366\n",
      "Name: Total.Minor.Injuries, dtype: int64 \n",
      "\n",
      "\n",
      "Total.Uninjured \n",
      " 1.0    30917\n",
      "0.0    28717\n",
      "2.0    15940\n",
      "3.0     4297\n",
      "4.0     2644\n",
      "Name: Total.Uninjured, dtype: int64 \n",
      "\n",
      "\n",
      "Weather.Condition \n",
      " VMC        76954\n",
      "IMC         5947\n",
      "missing     3535\n",
      "UNK          822\n",
      "Unk          237\n",
      "Name: Weather.Condition, dtype: int64 \n",
      "\n",
      "\n"
     ]
    }
   ],
   "source": [
    "for col in clean_df.columns:\n",
    "    print(col, '\\n', clean_df[col].value_counts().head(), '\\n\\n')"
   ]
  },
  {
   "cell_type": "markdown",
   "metadata": {},
   "source": [
    "As we can see there are no significant extraneous values except for some columns where the 'UNK','Unk' and 'missing'(which is the value we used to fill missing values in categorical coulmns) seem to be the same thing. So we'll just replace them below with \"Unknown\" and then move on to the next step.\n",
    "\n",
    "In the 'Make' column we shall convert all the object into strings to enhance uniformity."
   ]
  },
  {
   "cell_type": "code",
   "execution_count": null,
   "metadata": {},
   "outputs": [],
   "source": [
    "# correcting the axtraneous Values in the relevant columns.\n",
    "\n",
    "clean_df['Weather.Condition'] = clean_df['Weather.Condition'].replace(['UNK', 'Unk', 'missing'], 'Unknown')\n",
    "clean_df['Purpose.of.flight'] = clean_df['Purpose.of.flight'].replace('missing', 'Unknown')\n",
    "clean_df['Aircraft.damage'] = clean_df['Aircraft.damage'].replace('missing', 'Unknown')\n",
    "clean_df['Engine.Type'] = clean_df['Engine.Type'].replace(['UNK', 'missing'], 'Unknown')\n",
    "\n",
    "clean_df['Make'] = clean_df['Make'].str.title()\n"
   ]
  },
  {
   "cell_type": "markdown",
   "metadata": {},
   "source": [
    "<h3>Data Engineering for Flight Purpose.</h3>\n",
    "<p>Now that we're done with cleaning our data we want to create a meaningfull variables that suit our objectives. In our data under the 'Purpose.of.Flight' column we can notice that there are some flights whose purposes are either sports, military or other. These are not suitable for our decisions, because we are only interested in commercial and private airlines. We shall categorize our data into private_commercial and other.\n",
    " <br> N/B: I did my own research and categorized the data accordingly.<br> \n",
    "We will also filter out values that are not accidents in the 'Investigation.Type' column.</p>"
   ]
  },
  {
   "cell_type": "code",
   "execution_count": null,
   "metadata": {},
   "outputs": [
    {
     "data": {
      "text/plain": [
       "Personal                     49331\n",
       "Unknown                      11830\n",
       "Instructional                10575\n",
       "Aerial Application            4708\n",
       "Business                      3997\n",
       "Positioning                   1627\n",
       "Other Work Use                1254\n",
       "Ferry                          804\n",
       "Aerial Observation             784\n",
       "Public Aircraft                716\n",
       "Executive/corporate            549\n",
       "Flight Test                    399\n",
       "Skydiving                      182\n",
       "External Load                  123\n",
       "Public Aircraft - Federal      104\n",
       "Banner Tow                     101\n",
       "Air Race show                   99\n",
       "Public Aircraft - Local         74\n",
       "Public Aircraft - State         64\n",
       "Air Race/show                   59\n",
       "Glider Tow                      53\n",
       "Firefighting                    40\n",
       "Air Drop                        11\n",
       "ASHO                             6\n",
       "PUBS                             4\n",
       "PUBL                             1\n",
       "Name: Purpose.of.flight, dtype: int64"
      ]
     },
     "execution_count": 17,
     "metadata": {},
     "output_type": "execute_result"
    }
   ],
   "source": [
    "# Checking for unique values in the \"Purpose.of.Flight\" column and their counts.\n",
    "\n",
    "clean_df['Purpose.of.flight'].value_counts().head(40)\n"
   ]
  },
  {
   "cell_type": "markdown",
   "metadata": {},
   "source": [
    "<p>Now that we have the full list of unique values in the column, we go ahead and classify them in the next cell, we'll create a new column for that specific purpose.</p>"
   ]
  },
  {
   "cell_type": "code",
   "execution_count": null,
   "metadata": {},
   "outputs": [
    {
     "data": {
      "text/plain": [
       "(87495, 18)"
      ]
     },
     "execution_count": 18,
     "metadata": {},
     "output_type": "execute_result"
    }
   ],
   "source": [
    "private_commercial = [\"Personal\", \"Instructional\", \"Business\", \"Executive/corporate\", \"Glider Tow\", \"Aerial Application\", \"Aerial Observation\", \"Skydiving\", \"External Load\", \"Banner Tow\", \"Ferry\", \"Flight Test\", \"Positioning\",\"Unknown\"]\n",
    "other = [\"Public Aircraft\", \"Public Aircraft - Federal\", \"Public Aircraft - Local\", \"Public Aircraft - State\", \"Firefighting\", \"Air Race/show\", \"Air Race Show\", \"Air Drop\", \"ASHO\", \"PUBS\", \"PUBL\"]\n",
    "\n",
    "\n",
    "my_filter = ['Suitable' if x in private_commercial else 'Not.Suitable' for x in clean_df['Purpose.of.flight']]\n",
    "# This is a filter that will check the 'Purpose.of.Flight' column and classify them as either Suitable or Not.Suitable.\n",
    "\n",
    "clean_df[\"Flight.category\"] = my_filter \n",
    "# This will create a new column \"Flight.category\" that satisfies our filter\n",
    "\n",
    "clean_df.shape"
   ]
  },
  {
   "cell_type": "code",
   "execution_count": null,
   "metadata": {},
   "outputs": [
    {
     "data": {
      "text/plain": [
       "(81969, 18)"
      ]
     },
     "execution_count": 19,
     "metadata": {},
     "output_type": "execute_result"
    }
   ],
   "source": [
    "clean_df = clean_df[(clean_df['Flight.category'] == 'Suitable') & (clean_df['Investigation.Type'] == 'Accident')]  # Extract the data that is suitable for our analysis.\n",
    "clean_df.shape # Assert that the rows that aren't desired are dropped.\n"
   ]
  },
  {
   "cell_type": "code",
   "execution_count": null,
   "metadata": {},
   "outputs": [],
   "source": [
    "# We can save our clean data for futher use. \n",
    " \n",
    "clean_df.to_csv('clean.aviasionData.csv', index=False)"
   ]
  },
  {
   "cell_type": "markdown",
   "metadata": {},
   "source": [
    "<h3>Step 4. Exploratory Data anlysis<h3>"
   ]
  },
  {
   "cell_type": "markdown",
   "metadata": {},
   "source": [
    "<h5><b>Question 1. Understanding the Trend of Aviation Accidents Over the Years</b></h5>\n",
    "<p>In this step, we are analyzing the frequency of aviation accidents by year. Our goal is to understand how accident occurrences have changed over time, which can help identify trends of these accidents.</p>\n",
    "\n",
    "<p><b>Steps:</b> <br>\n",
    "\n",
    "1. Since the Event.Date column contains full dates (e.g., \"2005-07-15\"), we extract only the first four characters (representing the year) to create a new column, Year.<br>\n",
    "\n",
    "2. We count how many times each year appears in the dataset to determine the accident frequency for each year.\n",
    "\n",
    "3. The result is then converted into a DataFrame for easier manipulation and visualization. But since the value_counts() function returns a Series, we reset the index and rename the columns for clarity.\n",
    "\n",
    "</p>"
   ]
  },
  {
   "cell_type": "code",
   "execution_count": null,
   "metadata": {},
   "outputs": [
    {
     "data": {
      "text/html": [
       "<div>\n",
       "<style scoped>\n",
       "    .dataframe tbody tr th:only-of-type {\n",
       "        vertical-align: middle;\n",
       "    }\n",
       "\n",
       "    .dataframe tbody tr th {\n",
       "        vertical-align: top;\n",
       "    }\n",
       "\n",
       "    .dataframe thead th {\n",
       "        text-align: right;\n",
       "    }\n",
       "</style>\n",
       "<table border=\"1\" class=\"dataframe\">\n",
       "  <thead>\n",
       "    <tr style=\"text-align: right;\">\n",
       "      <th></th>\n",
       "      <th>Year</th>\n",
       "      <th>Accident_Counts</th>\n",
       "    </tr>\n",
       "  </thead>\n",
       "  <tbody>\n",
       "    <tr>\n",
       "      <th>0</th>\n",
       "      <td>1982</td>\n",
       "      <td>3437</td>\n",
       "    </tr>\n",
       "    <tr>\n",
       "      <th>1</th>\n",
       "      <td>1983</td>\n",
       "      <td>3335</td>\n",
       "    </tr>\n",
       "    <tr>\n",
       "      <th>2</th>\n",
       "      <td>1984</td>\n",
       "      <td>3261</td>\n",
       "    </tr>\n",
       "    <tr>\n",
       "      <th>3</th>\n",
       "      <td>1985</td>\n",
       "      <td>2944</td>\n",
       "    </tr>\n",
       "    <tr>\n",
       "      <th>4</th>\n",
       "      <td>1986</td>\n",
       "      <td>2742</td>\n",
       "    </tr>\n",
       "  </tbody>\n",
       "</table>\n",
       "</div>"
      ],
      "text/plain": [
       "   Year  Accident_Counts\n",
       "0  1982             3437\n",
       "1  1983             3335\n",
       "2  1984             3261\n",
       "3  1985             2944\n",
       "4  1986             2742"
      ]
     },
     "execution_count": 21,
     "metadata": {},
     "output_type": "execute_result"
    }
   ],
   "source": [
    "# Extract the year from 'Event.Date' by taking the first 4 characters\n",
    "clean_df['Year'] = clean_df['Event.Date'].astype(str).str[:4]\n",
    "\n",
    "question1_df = clean_df['Year']   # Select only the 'Year' column for analysis\n",
    "\n",
    "question1_df = question1_df.value_counts().T  # Count occurrences of each year\n",
    "question1_df = pd.DataFrame(question1_df)   # Convert the result into a DataFrame\n",
    "question1_df.reset_index(inplace=True)  \n",
    "\n",
    "# Rename columns for better clarity\n",
    "question1_df.rename(columns={'index':'Year', 'Year': 'Accident_Counts'},inplace=True)\n",
    "question1_df.rename_axis(None,axis=1)\n",
    "\n",
    "question1_df.head()"
   ]
  },
  {
   "cell_type": "markdown",
   "metadata": {},
   "source": [
    "<h5>Visualizing the Trend of Airplane Accidents Over Time</h5> \n",
    "<p>In this step, we are creating a line chart to visualize how the number of airplane accidents has changed over the years. This will help stakeholders identify patterns, such as whether accidents are decreasing due to improved safety regulations or whether certain periods experienced a spike in incidents.<br>\n",
    "\n",
    "Note: To focus on more recent trends, we keep only data from 1983 onwards.</p>"
   ]
  },
  {
   "cell_type": "code",
   "execution_count": null,
   "metadata": {},
   "outputs": [
    {
     "data": {
      "image/png": "[encoded data removed]",
      "text/plain": [
       "<Figure size 864x432 with 1 Axes>"
      ]
     },
     "metadata": {
      "needs_background": "light"
     },
     "output_type": "display_data"
    }
   ],
   "source": [
    "# Sort the DataFrame by Year in ascending order\n",
    "question1_df = question1_df.sort_values(by='Year', ascending=True)\n",
    "\n",
    "# Convert the Year column to an integer for numerical analysis\n",
    "question1_df['Year'] = question1_df['Year'].astype(int)\n",
    "\n",
    "# Filter the data to include only accidents after 1982\n",
    "question1_df = question1_df[(question1_df['Year'] > 1982)]\n",
    "\n",
    "\n",
    "# Set figure size\n",
    "fig, ax = plt.subplots(figsize=(12, 6))\n",
    "\n",
    "# Line plot\n",
    "ax.plot(question1_df['Year'], question1_df['Accident_Counts'], marker='o', color='blue')\n",
    "\n",
    "plt.xticks(range(question1_df['Year'].min(), question1_df['Year'].max() + 1, 3))\n",
    "# Labels and title\n",
    "ax.set_xlabel('Year')\n",
    "ax.set_ylabel('Number of Accidents')\n",
    "ax.set_title('Trend of Airplane Accidents Over Time')\n",
    "\n",
    "# Show plot\n",
    "plt.show()"
   ]
  },
  {
   "cell_type": "markdown",
   "metadata": {},
   "source": [
    "<h4>Conclusion</h4><p>The visualization highlights a clear trend in the number of airplane accidents over time, showing how probable advancements in technology and the introduction of newer aircraft have significantly influenced safety. Given this insight, the company should prioritize purchasing newer aircraft models from manufacturers with a strong safety record.</p>"
   ]
  },
  {
   "cell_type": "markdown",
   "metadata": {},
   "source": [
    "<h5><b>Question2. Are there specific aircraft Makes that have high accident counts associated with them?</b></h5>\n",
    "\n",
    "<p>Based on our observations in the previous analysis, we noticed that aircraft accidents have generally declined over time. Given this, we will now focus on data from the year 2000 onwards to ensure our insights are relevant to modern aviation operations. Analyzing older data might introduce outdated risks that no longer apply due to advancements in aircraft manufacturing technology<br>\n",
    "<b>Steps:</b> <br>\n",
    "\n",
    "1. We extract only records from the year 2000 onwards to ensure our analysis reflects current aviation risks.\n",
    "\n",
    "2. Determine how frequently each aircraft manufacturer appears in accident reports(count accidents per Make).\n",
    "\n",
    "3. The accident counts are transformed into a structured DataFrame for further processing.\n",
    "\n",
    "4. Reset Index - this step ensures that aircraft manufacturers are treated as a column instead of an index, making data manipulation easier.\n",
    "</p>\n",
    "\n",
    "Note: Since our data has too much information, we will pick a sample of the top 15 aircrafts with the highest frequency of accidents for our analysis."
   ]
  },
  {
   "cell_type": "code",
   "execution_count": null,
   "metadata": {},
   "outputs": [
    {
     "data": {
      "text/html": [
       "<div>\n",
       "<style scoped>\n",
       "    .dataframe tbody tr th:only-of-type {\n",
       "        vertical-align: middle;\n",
       "    }\n",
       "\n",
       "    .dataframe tbody tr th {\n",
       "        vertical-align: top;\n",
       "    }\n",
       "\n",
       "    .dataframe thead th {\n",
       "        text-align: right;\n",
       "    }\n",
       "</style>\n",
       "<table border=\"1\" class=\"dataframe\">\n",
       "  <thead>\n",
       "    <tr style=\"text-align: right;\">\n",
       "      <th></th>\n",
       "      <th>Make</th>\n",
       "      <th>Accident Counts</th>\n",
       "    </tr>\n",
       "  </thead>\n",
       "  <tbody>\n",
       "    <tr>\n",
       "      <th>0</th>\n",
       "      <td>Cessna</td>\n",
       "      <td>9515</td>\n",
       "    </tr>\n",
       "    <tr>\n",
       "      <th>1</th>\n",
       "      <td>Piper</td>\n",
       "      <td>5386</td>\n",
       "    </tr>\n",
       "    <tr>\n",
       "      <th>2</th>\n",
       "      <td>Beech</td>\n",
       "      <td>2001</td>\n",
       "    </tr>\n",
       "    <tr>\n",
       "      <th>3</th>\n",
       "      <td>Bell</td>\n",
       "      <td>914</td>\n",
       "    </tr>\n",
       "    <tr>\n",
       "      <th>4</th>\n",
       "      <td>Robinson</td>\n",
       "      <td>698</td>\n",
       "    </tr>\n",
       "  </tbody>\n",
       "</table>\n",
       "</div>"
      ],
      "text/plain": [
       "       Make  Accident Counts\n",
       "0    Cessna             9515\n",
       "1     Piper             5386\n",
       "2     Beech             2001\n",
       "3      Bell              914\n",
       "4  Robinson              698"
      ]
     },
     "execution_count": 23,
     "metadata": {},
     "output_type": "execute_result"
    }
   ],
   "source": [
    "# Filter dataset to include only accidents that occurred after the year 2000\n",
    "question2_df = clean_df[clean_df['Year'].astype(int) > 2000]\n",
    "\n",
    "# Count the number of accidents per aircraft make\n",
    "question2_df = question2_df['Make'].value_counts().T\n",
    "\n",
    "# Convert the series into a DataFrame\n",
    "question2_df = pd.DataFrame(question2_df)\n",
    "\n",
    "question2_df.reset_index(inplace=True)  # Reset index to make 'Make' a column instead of an index\n",
    "question2_df.rename(columns={'index':'Make', 'Make': 'Accident Counts'},inplace=True) # rename columns\n",
    "question2_df.rename_axis(None,axis=1)\n",
    "\n",
    "# Select only the top 15 manufacturers with the highest accident counts\n",
    "question2_df = question2_df.head(15)\n",
    "\n",
    "question2_df.head()"
   ]
  },
  {
   "cell_type": "markdown",
   "metadata": {},
   "source": [
    "\n",
    "<p>We now visualize the accident counts for the top 15 aircraft manufacturers from the year 2000 onwards using a horizontal bar chart. This helps us quickly identify which manufacturers have had the most accidents in modern aviation history.</p>"
   ]
  },
  {
   "cell_type": "code",
   "execution_count": null,
   "metadata": {},
   "outputs": [
    {
     "data": {
      "image/png": "[encoded data removed]",
      "text/plain": [
       "<Figure size 864x432 with 1 Axes>"
      ]
     },
     "metadata": {
      "needs_background": "light"
     },
     "output_type": "display_data"
    }
   ],
   "source": [
    "plt.figure(figsize=(12, 6))\n",
    "sns.barplot(data=question2_df, y='Make', x='Accident Counts', palette='viridis')\n",
    "\n",
    "plt.xlabel(\"Accident Counts\")\n",
    "plt.ylabel(\"Aircraft Manufacturer\")\n",
    "plt.title(\"Top 15 Aircraft Manufacturers with the Most Accidents (After 2000)\")\n",
    "\n",
    "plt.show()\n"
   ]
  },
  {
   "cell_type": "markdown",
   "metadata": {},
   "source": [
    "<h3>Conclusion</h3>\n",
    "From this analysis, we observe that certain manufacturers have significantly higher accident counts than others. However, this does not necessarily mean their aircraft are less safe, it could also indicate their higher market presence and production volume. Manufacturers like Cessna and Piper appear frequently, likely due to their dominance aircraft industry. This insight helps us understand accident trends among different makes, guiding decisions on which aircraft require further safety evaluations before purchase."
   ]
  },
  {
   "cell_type": "markdown",
   "metadata": {},
   "source": [
    "<h4><b>Question 3. Which aircraft makes have the highest number of survivable accidents after the year 2000?</b></h4>\n",
    "<p>In this analysis, we aim to assess the survival rates for aircraft models with the most accidents after the year 2000. Using the Injury.Severity column, we focus on cases where passengers survived, i.e., those categorized as \"Minor,\" \"Serious,\" or \"Non-Fatal.\" We group the data by aircraft make and count the total number of survivable cases to gain insights into aircraft safety.<br>\n",
    "\n",
    "Since our previous findings indicated that newer aircraft are likely to be safer due to advancements in manufacturing technology, we continue filtering for accidents occurring after 2000. This helps us evaluate modern aircraft models rather than older, potentially outdated ones.</p>"
   ]
  },
  {
   "cell_type": "code",
   "execution_count": null,
   "metadata": {},
   "outputs": [
    {
     "data": {
      "text/html": [
       "<div>\n",
       "<style scoped>\n",
       "    .dataframe tbody tr th:only-of-type {\n",
       "        vertical-align: middle;\n",
       "    }\n",
       "\n",
       "    .dataframe tbody tr th {\n",
       "        vertical-align: top;\n",
       "    }\n",
       "\n",
       "    .dataframe thead th {\n",
       "        text-align: right;\n",
       "    }\n",
       "</style>\n",
       "<table border=\"1\" class=\"dataframe\">\n",
       "  <thead>\n",
       "    <tr style=\"text-align: right;\">\n",
       "      <th></th>\n",
       "      <th>Make</th>\n",
       "      <th>Non-Fatal Count</th>\n",
       "      <th>Accident Counts</th>\n",
       "      <th>Survival Rate</th>\n",
       "    </tr>\n",
       "  </thead>\n",
       "  <tbody>\n",
       "    <tr>\n",
       "      <th>0</th>\n",
       "      <td>Aeronca</td>\n",
       "      <td>222</td>\n",
       "      <td>249</td>\n",
       "      <td>89.156627</td>\n",
       "    </tr>\n",
       "    <tr>\n",
       "      <th>1</th>\n",
       "      <td>Air Tractor</td>\n",
       "      <td>250</td>\n",
       "      <td>316</td>\n",
       "      <td>79.113924</td>\n",
       "    </tr>\n",
       "    <tr>\n",
       "      <th>2</th>\n",
       "      <td>Air Tractor Inc</td>\n",
       "      <td>171</td>\n",
       "      <td>211</td>\n",
       "      <td>81.042654</td>\n",
       "    </tr>\n",
       "    <tr>\n",
       "      <th>3</th>\n",
       "      <td>Beech</td>\n",
       "      <td>1346</td>\n",
       "      <td>2001</td>\n",
       "      <td>67.266367</td>\n",
       "    </tr>\n",
       "    <tr>\n",
       "      <th>4</th>\n",
       "      <td>Bell</td>\n",
       "      <td>658</td>\n",
       "      <td>914</td>\n",
       "      <td>71.991247</td>\n",
       "    </tr>\n",
       "    <tr>\n",
       "      <th>5</th>\n",
       "      <td>Bellanca</td>\n",
       "      <td>257</td>\n",
       "      <td>303</td>\n",
       "      <td>84.818482</td>\n",
       "    </tr>\n",
       "    <tr>\n",
       "      <th>6</th>\n",
       "      <td>Boeing</td>\n",
       "      <td>565</td>\n",
       "      <td>656</td>\n",
       "      <td>86.128049</td>\n",
       "    </tr>\n",
       "    <tr>\n",
       "      <th>7</th>\n",
       "      <td>Cessna</td>\n",
       "      <td>7709</td>\n",
       "      <td>9515</td>\n",
       "      <td>81.019443</td>\n",
       "    </tr>\n",
       "    <tr>\n",
       "      <th>8</th>\n",
       "      <td>Cirrus Design Corp</td>\n",
       "      <td>140</td>\n",
       "      <td>212</td>\n",
       "      <td>66.037736</td>\n",
       "    </tr>\n",
       "    <tr>\n",
       "      <th>9</th>\n",
       "      <td>Hughes</td>\n",
       "      <td>203</td>\n",
       "      <td>250</td>\n",
       "      <td>81.200000</td>\n",
       "    </tr>\n",
       "    <tr>\n",
       "      <th>10</th>\n",
       "      <td>Maule</td>\n",
       "      <td>249</td>\n",
       "      <td>277</td>\n",
       "      <td>89.891697</td>\n",
       "    </tr>\n",
       "    <tr>\n",
       "      <th>11</th>\n",
       "      <td>Mooney</td>\n",
       "      <td>375</td>\n",
       "      <td>524</td>\n",
       "      <td>71.564885</td>\n",
       "    </tr>\n",
       "    <tr>\n",
       "      <th>12</th>\n",
       "      <td>Piper</td>\n",
       "      <td>4168</td>\n",
       "      <td>5386</td>\n",
       "      <td>77.385815</td>\n",
       "    </tr>\n",
       "    <tr>\n",
       "      <th>13</th>\n",
       "      <td>Robinson</td>\n",
       "      <td>438</td>\n",
       "      <td>698</td>\n",
       "      <td>62.750716</td>\n",
       "    </tr>\n",
       "    <tr>\n",
       "      <th>14</th>\n",
       "      <td>Schweizer</td>\n",
       "      <td>260</td>\n",
       "      <td>290</td>\n",
       "      <td>89.655172</td>\n",
       "    </tr>\n",
       "  </tbody>\n",
       "</table>\n",
       "</div>"
      ],
      "text/plain": [
       "                  Make  Non-Fatal Count  Accident Counts  Survival Rate\n",
       "0              Aeronca              222              249      89.156627\n",
       "1          Air Tractor              250              316      79.113924\n",
       "2      Air Tractor Inc              171              211      81.042654\n",
       "3                Beech             1346             2001      67.266367\n",
       "4                 Bell              658              914      71.991247\n",
       "5             Bellanca              257              303      84.818482\n",
       "6               Boeing              565              656      86.128049\n",
       "7               Cessna             7709             9515      81.019443\n",
       "8   Cirrus Design Corp              140              212      66.037736\n",
       "9               Hughes              203              250      81.200000\n",
       "10               Maule              249              277      89.891697\n",
       "11              Mooney              375              524      71.564885\n",
       "12               Piper             4168             5386      77.385815\n",
       "13            Robinson              438              698      62.750716\n",
       "14           Schweizer              260              290      89.655172"
      ]
     },
     "execution_count": 30,
     "metadata": {},
     "output_type": "execute_result"
    }
   ],
   "source": [
    "# Filter the dataset to include only accidents that occurred after the year 2000\n",
    "relevant_df = clean_df[clean_df[\"Year\"].astype(int) > 2000]\n",
    "\n",
    "# Group by 'Make' and 'Injury.Severity' to count the number of occurrences of each severity level\n",
    "severity_counts = (relevant_df.groupby([\"Make\", \"Injury.Severity\"]).size().reset_index(name=\"Non-Fatal Count\"))\n",
    "\n",
    "# Extract the top 15 aircraft manufacturers based on accident counts from the previous question\n",
    "top_aircraft_makes = list(question2_df['Make'])\n",
    "top_severity_df = severity_counts[severity_counts[\"Make\"].isin(top_aircraft_makes)]\n",
    "\n",
    "# Define severity categories considered as survivable incidents\n",
    "survived = [\"Minor\", \"Serious\", \"Non-Fatal\"]\n",
    "\n",
    "# Filter for only the rows where the injury severity falls under the \"survived\" category\n",
    "survival_index = top_severity_df['Injury.Severity'].isin(survived)\n",
    "top_severity_df = top_severity_df.loc[survival_index]\n",
    "\n",
    "# Aggregate the total number of survivable incidents per aircraft make\n",
    "question3_df = pd.DataFrame(top_severity_df.groupby('Make')['Non-Fatal Count'].sum())\n",
    "\n",
    "# Reset index so that 'Make' becomes a column instead of an index\n",
    "question3_df.reset_index(inplace=True)\n",
    "question3_df.rename(columns={'index': 'Non-Fatal Count'}, inplace=True) # Rename columns\n",
    "question3_df.rename_axis(None, axis=1)\n",
    "\n",
    "# Merge the dataset with accident counts to get total accident data for aircraft with same Make\n",
    "qn3_df = question3_df.merge(question2_df, on='Make')\n",
    "\n",
    "# Calculate the survival rate as the percentage of survivable accidents out of total accidents\n",
    "qn3_df[\"Survival Rate\"] = (qn3_df[\"Non-Fatal Count\"] / qn3_df[\"Accident Counts\"] * 100)\n",
    "\n",
    "qn3_df"
   ]
  },
  {
   "cell_type": "code",
   "execution_count": null,
   "metadata": {},
   "outputs": [
    {
     "ename": "NameError",
     "evalue": "name 'plt' is not defined",
     "output_type": "error",
     "traceback": [
      "\u001b[1;31m---------------------------------------------------------------------------\u001b[0m",
      "\u001b[1;31mNameError\u001b[0m                                 Traceback (most recent call last)",
      "\u001b[1;32m<ipython-input-1-3eeb50f60b8a>\u001b[0m in \u001b[0;36m<module>\u001b[1;34m\u001b[0m\n\u001b[1;32m----> 1\u001b[1;33m \u001b[0mfig\u001b[0m\u001b[1;33m,\u001b[0m \u001b[0max\u001b[0m \u001b[1;33m=\u001b[0m \u001b[0mplt\u001b[0m\u001b[1;33m.\u001b[0m\u001b[0msubplots\u001b[0m\u001b[1;33m(\u001b[0m\u001b[0mfigsize\u001b[0m\u001b[1;33m=\u001b[0m\u001b[1;33m(\u001b[0m\u001b[1;36m10\u001b[0m\u001b[1;33m,\u001b[0m\u001b[1;36m8\u001b[0m\u001b[1;33m)\u001b[0m\u001b[1;33m)\u001b[0m\u001b[1;33m\u001b[0m\u001b[1;33m\u001b[0m\u001b[0m\n\u001b[0m\u001b[0;32m      2\u001b[0m \u001b[1;33m\u001b[0m\u001b[0m\n\u001b[0;32m      3\u001b[0m \u001b[0mx\u001b[0m \u001b[1;33m=\u001b[0m \u001b[0mqn3_df\u001b[0m\u001b[1;33m[\u001b[0m\u001b[1;34m'Make'\u001b[0m\u001b[1;33m]\u001b[0m\u001b[1;33m\u001b[0m\u001b[1;33m\u001b[0m\u001b[0m\n\u001b[0;32m      4\u001b[0m \u001b[0mheight\u001b[0m \u001b[1;33m=\u001b[0m \u001b[0mqn3_df\u001b[0m\u001b[1;33m[\u001b[0m\u001b[1;34m'Survival Rate'\u001b[0m\u001b[1;33m]\u001b[0m\u001b[1;33m\u001b[0m\u001b[1;33m\u001b[0m\u001b[0m\n\u001b[0;32m      5\u001b[0m \u001b[0max\u001b[0m\u001b[1;33m.\u001b[0m\u001b[0mbar\u001b[0m\u001b[1;33m(\u001b[0m\u001b[0mx\u001b[0m\u001b[1;33m,\u001b[0m \u001b[0mheight\u001b[0m\u001b[1;33m,\u001b[0m \u001b[0mcolor\u001b[0m\u001b[1;33m=\u001b[0m\u001b[1;34m'green'\u001b[0m\u001b[1;33m)\u001b[0m\u001b[1;33m\u001b[0m\u001b[1;33m\u001b[0m\u001b[0m\n",
      "\u001b[1;31mNameError\u001b[0m: name 'plt' is not defined"
     ]
    }
   ],
   "source": [
    "fig, ax = plt.subplots(figsize=(10,8))\n",
    "\n",
    "x = qn3_df['Make']\n",
    "height = qn3_df['Survival Rate']\n",
    "ax.bar(x, height, color='green')\n",
    "\n",
    "plt.xlabel(\"Aircraft Make\")\n",
    "plt.ylabel(\"Survival Rate\")\n",
    "plt.title(\"Survival Rate of Top 15 Aircraft Manufacturers (After 2000)\")\n",
    "\n",
    "plt.xticks(rotation=90)\n",
    "\n",
    "plt.show();"
   ]
  },
  {
   "cell_type": "markdown",
   "metadata": {},
   "source": [
    "<h3>Conclusion.</h3>\n",
    "The survival rate provides a crucial metric for assessing aircraft safety, showing the proportion of accidents where passengers had a chance of survival. From the analysis, we observe that certain aircraft manufacturers exhibit higher survival rates. \n",
    "\n",
    "A reasonable benchmark for a \"safe\" aircraft could be a survival rate of at least 80%, meaning that in at least 80% of recorded accidents, occupants sustained survivable injuries. Aircraft models that fall below this threshold may warrant further investigation before purchase."
   ]
  },
  {
   "cell_type": "markdown",
   "metadata": {},
   "source": [
    "<h2>Summary of Findings and Recommendations</h2>"
   ]
  },
  {
   "cell_type": "markdown",
   "metadata": {},
   "source": [
    "Our analysis of aircraft accidents since the year 2000 focused on identifying the safest aircraft manufacturers based on accident counts and survival rates. We observed that while some aircraft models had higher accident frequencies, their survival rates varied significantly.\n",
    "\n",
    "Additionally, the trend of airplane accidents over time suggests a decline in incidents, likely due to advancements in aviation technology, stricter safety regulations, and improved pilot training. This reinforces the importance of investing in newer aircraft models equipped with modern safety features.\n",
    "\n",
    "Key Recommendations:\n",
    "\n",
    "1. Prioritize Aircraft with a Survival Rate Above 80% – Models that exceed this threshold demonstrate better crash survivability and passenger safety.\n",
    "\n",
    "2. Invest in Newer Aircraft Models – The decreasing trend in accidents over time suggests that modern planes are safer and acquiring them will reduce the likelihood of accidents and enhance overall safety.\n",
    "\n",
    "3. Conduct Further Safety Evaluations Before Purchase – Beyond historical data, factors such as maintenance records, technological advancements, and compliance with modern aviation safety standards should be assessed to ensure long-term operational safety and reliability.\n"
   ]
  }
 ],
 "metadata": {
  "kernelspec": {
   "display_name": "learn-env",
   "language": "python",
   "name": "python3"
  },
  "language_info": {
   "codemirror_mode": {
    "name": "ipython",
    "version": 3
   },
   "file_extension": ".py",
   "mimetype": "text/x-python",
   "name": "python",
   "nbconvert_exporter": "python",
   "pygments_lexer": "ipython3",
   "version": "3.8.5"
  }
 },
 "nbformat": 4,
 "nbformat_minor": 2
}
